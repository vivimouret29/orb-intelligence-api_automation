{
 "cells": [
  {
   "cell_type": "code",
   "execution_count": null,
   "metadata": {},
   "outputs": [],
   "source": [
    "import os\n",
    "import pandas as pd\n",
    "import numpy as np\n",
    "\n",
    "for dirname, _, filenames in os.walk(r'/home/daftvm/workspace/orb-intelligence-api_automation'):\n",
    "    for filename in filenames:\n",
    "        print(os.path.join(dirname, filename))\n",
    "\n",
    "\n",
    "def analysis(data):\n",
    "    return pd.DataFrame({\"Data Type\": data.dtypes, \"Unique Count\": data.apply(lambda x: x.nunique(), axis=0),\n",
    "                        \"Null Count\": data.isnull().sum()})\n"
   ]
  },
  {
   "cell_type": "code",
   "execution_count": 2,
   "metadata": {},
   "outputs": [],
   "source": [
    "pd.set_option('display.max_columns', 5)\n",
    "pd.set_option('display.max_rows', 15)\n"
   ]
  },
  {
   "cell_type": "code",
   "execution_count": 3,
   "metadata": {},
   "outputs": [],
   "source": [
    "df = pd.read_csv(r'geonames-postal-code.csv')\n"
   ]
  },
  {
   "cell_type": "code",
   "execution_count": 4,
   "metadata": {},
   "outputs": [
    {
     "data": {
      "text/html": [
       "<div>\n",
       "<style scoped>\n",
       "    .dataframe tbody tr th:only-of-type {\n",
       "        vertical-align: middle;\n",
       "    }\n",
       "\n",
       "    .dataframe tbody tr th {\n",
       "        vertical-align: top;\n",
       "    }\n",
       "\n",
       "    .dataframe thead th {\n",
       "        text-align: right;\n",
       "    }\n",
       "</style>\n",
       "<table border=\"1\" class=\"dataframe\">\n",
       "  <thead>\n",
       "    <tr style=\"text-align: right;\">\n",
       "      <th></th>\n",
       "      <th>Data Type</th>\n",
       "      <th>Unique Count</th>\n",
       "      <th>Null Count</th>\n",
       "    </tr>\n",
       "  </thead>\n",
       "  <tbody>\n",
       "    <tr>\n",
       "      <th>country code</th>\n",
       "      <td>object</td>\n",
       "      <td>1</td>\n",
       "      <td>2</td>\n",
       "    </tr>\n",
       "    <tr>\n",
       "      <th>postal code</th>\n",
       "      <td>object</td>\n",
       "      <td>41482</td>\n",
       "      <td>0</td>\n",
       "    </tr>\n",
       "    <tr>\n",
       "      <th>place name</th>\n",
       "      <td>object</td>\n",
       "      <td>18580</td>\n",
       "      <td>0</td>\n",
       "    </tr>\n",
       "    <tr>\n",
       "      <th>admin name1</th>\n",
       "      <td>object</td>\n",
       "      <td>53</td>\n",
       "      <td>513</td>\n",
       "    </tr>\n",
       "    <tr>\n",
       "      <th>admin code1</th>\n",
       "      <td>object</td>\n",
       "      <td>52</td>\n",
       "      <td>515</td>\n",
       "    </tr>\n",
       "    <tr>\n",
       "      <th>admin name2</th>\n",
       "      <td>object</td>\n",
       "      <td>1852</td>\n",
       "      <td>515</td>\n",
       "    </tr>\n",
       "    <tr>\n",
       "      <th>admin code2</th>\n",
       "      <td>float64</td>\n",
       "      <td>325</td>\n",
       "      <td>513</td>\n",
       "    </tr>\n",
       "    <tr>\n",
       "      <th>admin name3</th>\n",
       "      <td>object</td>\n",
       "      <td>2</td>\n",
       "      <td>41482</td>\n",
       "    </tr>\n",
       "    <tr>\n",
       "      <th>admin code3</th>\n",
       "      <td>float64</td>\n",
       "      <td>2</td>\n",
       "      <td>41482</td>\n",
       "    </tr>\n",
       "    <tr>\n",
       "      <th>latitude</th>\n",
       "      <td>object</td>\n",
       "      <td>33586</td>\n",
       "      <td>2</td>\n",
       "    </tr>\n",
       "    <tr>\n",
       "      <th>longitude</th>\n",
       "      <td>float64</td>\n",
       "      <td>35875</td>\n",
       "      <td>4</td>\n",
       "    </tr>\n",
       "    <tr>\n",
       "      <th>accuracy</th>\n",
       "      <td>float64</td>\n",
       "      <td>2</td>\n",
       "      <td>536</td>\n",
       "    </tr>\n",
       "    <tr>\n",
       "      <th>coordinates</th>\n",
       "      <td>object</td>\n",
       "      <td>37713</td>\n",
       "      <td>4</td>\n",
       "    </tr>\n",
       "  </tbody>\n",
       "</table>\n",
       "</div>"
      ],
      "text/plain": [
       "             Data Type  Unique Count  Null Count\n",
       "country code    object             1           2\n",
       "postal code     object         41482           0\n",
       "place name      object         18580           0\n",
       "admin name1     object            53         513\n",
       "admin code1     object            52         515\n",
       "admin name2     object          1852         515\n",
       "admin code2    float64           325         513\n",
       "admin name3     object             2       41482\n",
       "admin code3    float64             2       41482\n",
       "latitude        object         33586           2\n",
       "longitude      float64         35875           4\n",
       "accuracy       float64             2         536\n",
       "coordinates     object         37713           4"
      ]
     },
     "execution_count": 4,
     "metadata": {},
     "output_type": "execute_result"
    }
   ],
   "source": [
    "analysis(df)"
   ]
  },
  {
   "cell_type": "code",
   "execution_count": 5,
   "metadata": {},
   "outputs": [
    {
     "data": {
      "text/plain": [
       "array([1, 3])"
      ]
     },
     "execution_count": 5,
     "metadata": {},
     "output_type": "execute_result"
    }
   ],
   "source": [
    "drop = np.where(df['postal code'] == 'NY')\n",
    "drop += np.where(df['postal code'] == '501')\n",
    "drop += np.where(df['postal code'] == '544')\n",
    "drop[0]\n",
    "\n"
   ]
  },
  {
   "cell_type": "code",
   "execution_count": 6,
   "metadata": {},
   "outputs": [],
   "source": [
    "i=0\n",
    "while i<3:\n",
    "    df = df.drop(index=drop[i], axis=1)\n",
    "    i+=1\n"
   ]
  },
  {
   "cell_type": "code",
   "execution_count": 7,
   "metadata": {},
   "outputs": [
    {
     "data": {
      "text/html": [
       "<div>\n",
       "<style scoped>\n",
       "    .dataframe tbody tr th:only-of-type {\n",
       "        vertical-align: middle;\n",
       "    }\n",
       "\n",
       "    .dataframe tbody tr th {\n",
       "        vertical-align: top;\n",
       "    }\n",
       "\n",
       "    .dataframe thead th {\n",
       "        text-align: right;\n",
       "    }\n",
       "</style>\n",
       "<table border=\"1\" class=\"dataframe\">\n",
       "  <thead>\n",
       "    <tr style=\"text-align: right;\">\n",
       "      <th></th>\n",
       "      <th>country code</th>\n",
       "      <th>postal code</th>\n",
       "      <th>...</th>\n",
       "      <th>accuracy</th>\n",
       "      <th>coordinates</th>\n",
       "    </tr>\n",
       "  </thead>\n",
       "  <tbody>\n",
       "    <tr>\n",
       "      <th>4</th>\n",
       "      <td>US</td>\n",
       "      <td>1001</td>\n",
       "      <td>...</td>\n",
       "      <td>4.0</td>\n",
       "      <td>42.0702,-72.6227</td>\n",
       "    </tr>\n",
       "    <tr>\n",
       "      <th>5</th>\n",
       "      <td>US</td>\n",
       "      <td>1002</td>\n",
       "      <td>...</td>\n",
       "      <td>4.0</td>\n",
       "      <td>42.3671,-72.4646</td>\n",
       "    </tr>\n",
       "    <tr>\n",
       "      <th>6</th>\n",
       "      <td>US</td>\n",
       "      <td>1003</td>\n",
       "      <td>...</td>\n",
       "      <td>4.0</td>\n",
       "      <td>42.3919,-72.5248</td>\n",
       "    </tr>\n",
       "    <tr>\n",
       "      <th>7</th>\n",
       "      <td>US</td>\n",
       "      <td>1004</td>\n",
       "      <td>...</td>\n",
       "      <td>4.0</td>\n",
       "      <td>42.3845,-72.5132</td>\n",
       "    </tr>\n",
       "    <tr>\n",
       "      <th>8</th>\n",
       "      <td>US</td>\n",
       "      <td>1005</td>\n",
       "      <td>...</td>\n",
       "      <td>4.0</td>\n",
       "      <td>42.4097,-72.1084</td>\n",
       "    </tr>\n",
       "  </tbody>\n",
       "</table>\n",
       "<p>5 rows × 13 columns</p>\n",
       "</div>"
      ],
      "text/plain": [
       "  country code postal code  ... accuracy       coordinates\n",
       "4           US        1001  ...      4.0  42.0702,-72.6227\n",
       "5           US        1002  ...      4.0  42.3671,-72.4646\n",
       "6           US        1003  ...      4.0  42.3919,-72.5248\n",
       "7           US        1004  ...      4.0  42.3845,-72.5132\n",
       "8           US        1005  ...      4.0  42.4097,-72.1084\n",
       "\n",
       "[5 rows x 13 columns]"
      ]
     },
     "execution_count": 7,
     "metadata": {},
     "output_type": "execute_result"
    }
   ],
   "source": [
    "df.head()"
   ]
  },
  {
   "cell_type": "code",
   "execution_count": null,
   "metadata": {},
   "outputs": [],
   "source": []
  }
 ],
 "metadata": {
  "interpreter": {
   "hash": "bf2ef50fb79544d52fd4cb4b1fb609befa353139ba709c980fb5c511956279fe"
  },
  "kernelspec": {
   "display_name": "Python 3.8.12 64-bit ('weenove': conda)",
   "language": "python",
   "name": "python3"
  },
  "language_info": {
   "codemirror_mode": {
    "name": "ipython",
    "version": 3
   },
   "file_extension": ".py",
   "mimetype": "text/x-python",
   "name": "python",
   "nbconvert_exporter": "python",
   "pygments_lexer": "ipython3",
   "version": "3.8.12"
  },
  "orig_nbformat": 4
 },
 "nbformat": 4,
 "nbformat_minor": 2
}
